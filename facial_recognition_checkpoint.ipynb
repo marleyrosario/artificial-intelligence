{
  "cells": [
    {
      "cell_type": "markdown",
      "metadata": {
        "id": "view-in-github",
        "colab_type": "text"
      },
      "source": [
        "<a href=\"https://colab.research.google.com/github/marleyrosario/artificial-intelligence/blob/main/facial_recognition_checkpoint.ipynb\" target=\"_parent\"><img src=\"https://colab.research.google.com/assets/colab-badge.svg\" alt=\"Open In Colab\"/></a>"
      ]
    },
    {
      "cell_type": "code",
      "execution_count": null,
      "metadata": {
        "id": "B7PlcAHTtg9V"
      },
      "outputs": [],
      "source": [
        "!pip install deepface\n",
        "from deepface import DeepFace"
      ],
      "id": "B7PlcAHTtg9V"
    },
    {
      "cell_type": "code",
      "source": [
        ""
      ],
      "metadata": {
        "id": "_Wbhj8tUxxx2"
      },
      "id": "_Wbhj8tUxxx2",
      "execution_count": null,
      "outputs": []
    },
    {
      "cell_type": "code",
      "execution_count": 5,
      "metadata": {
        "id": "1SGQzqjAtg9g"
      },
      "outputs": [],
      "source": [
        "import pandas as pd\n",
        "import urllib\n",
        "import requests\n",
        "import os"
      ],
      "id": "1SGQzqjAtg9g"
    },
    {
      "cell_type": "code",
      "execution_count": null,
      "metadata": {
        "id": "qfUQ3U3wtg9i"
      },
      "outputs": [],
      "source": [
        "path = 'Select * FROM `people-first-337420.PB_lists.comments_juv`'\n",
        "project_id = \"\"\"people-first-337420\"\"\"\n",
        "\n",
        "df = pd.read_gbq(query = path, project_id = project_id)"
      ],
      "id": "qfUQ3U3wtg9i"
    },
    {
      "cell_type": "code",
      "source": [
        "print(df['profilePictureUrl'])"
      ],
      "metadata": {
        "id": "cm_2VDuKwNLw"
      },
      "id": "cm_2VDuKwNLw",
      "execution_count": null,
      "outputs": []
    },
    {
      "cell_type": "code",
      "execution_count": 8,
      "metadata": {
        "id": "By1q55Kztg9k"
      },
      "outputs": [],
      "source": [
        "df['profilePictureUrl'] = df['profilePictureUrl'].astype(\"string\")\n",
        "df = df[df['profilePictureUrl'].str.contains('http')]\n",
        "df['profilePictureUrl'] = df['profilePictureUrl'] + '.jpg'\n",
        "profile_pictures = df['profilePictureUrl'].to_list()\n",
        "df['index1'] = df.index + 1\n",
        "df['index1'] = \"image\" + df['index1'].astype(str) + \".jpg\"\n"
      ],
      "id": "By1q55Kztg9k"
    },
    {
      "cell_type": "code",
      "execution_count": 9,
      "metadata": {
        "id": "FtgsUn-TyKBl"
      },
      "outputs": [],
      "source": [
        "from google.colab import auth\n",
        "auth.authenticate_user()\n",
        "\n",
        "# https://cloud.google.com/resource-manager/docs/creating-managing-projects\n",
        "project_id = 'people-first-337420'\n",
        "from googleapiclient.discovery import build\n",
        "gcs_service = build('storage', 'v1')\n",
        "\n",
        "# Generate a random bucket name to which we'll upload the file.\n",
        "import uuid\n",
        "bucket_name = 'commenters_juv_image_analysis' \n",
        "\n",
        "#body = {\n",
        " # 'name': bucket_name,\n",
        "  # For a full list of locations, see:\n",
        "  # https://cloud.google.com/storage/docs/bucket-locations\n",
        "#  'location': 'us',\n",
        "#}\n",
        "#gcs_service.buckets().insert(project=project_id, body=body).execute()\n",
        "#print('Done')"
      ],
      "id": "FtgsUn-TyKBl"
    },
    {
      "cell_type": "markdown",
      "source": [
        ""
      ],
      "metadata": {
        "id": "_np0LFb6KdEX"
      },
      "id": "_np0LFb6KdEX"
    },
    {
      "cell_type": "code",
      "source": [
        "from google.colab import files as FILE\n",
        "import os\n",
        "from google.colab import drive\n",
        "from googleapiclient.http import MediaFileUpload\n",
        "\n",
        "def save_images_to_bucket(file, count):\n",
        "#file = 'https://scontent-lga3-2.cdninstagram.com/v/t51.2885-19/271230313_1074620846654159_9048096372490609200_n.jpg?stp=dst-jpg_s150x150&_nc_ht=scontent-lga3-2.cdninstagram.com&_nc_cat=111&_nc_ohc=SF1WdWibkqAAX97BrsD&edm=AId3EpQBAAAA&ccb=7-4&oh=00_AT_g1j6y3uEMUnGyJWplbgw7VvOqfQiyravE0QJSZ2vqow&oe=627F5085&_nc_sid=705020.jpg'\n",
        "  img_data = requests.get(file).content\n",
        "  with open(f'/tmp/image_{count}.jpg', 'wb') as handler:\n",
        "        handler.write(img_data)\n",
        "\n",
        "\n",
        "\n",
        "  media = MediaFileUpload(f'/tmp/image_{count}.jpg', \n",
        "                        mimetype='text/plain',\n",
        "                        resumable=True)\n",
        "\n",
        "  request = gcs_service.objects().insert(bucket=bucket_name, \n",
        "                                        name=f'image_{count}.jpg',\n",
        "                                        media_body=media)\n",
        "\n",
        "  response = None\n",
        "  while response is None:\n",
        "  # _ is a placeholder for a progress object that we ignore.\n",
        "  # (Our file is small, so we skip reporting progress.)\n",
        "      _, response = request.next_chunk()\n",
        "\n",
        "  print('Upload complete')\n",
        "\n"
      ],
      "metadata": {
        "id": "v_Jr583XKdq5"
      },
      "id": "v_Jr583XKdq5",
      "execution_count": null,
      "outputs": []
    },
    {
      "cell_type": "code",
      "source": [
        "count = 0\n",
        "for i in profile_pictures:\n",
        "  save_images_to_bucket(i, count)\n",
        "  count = count +1\n",
        "\n",
        "#print('https://console.cloud.google.com/storage/browser?project={}'.format(project_id))"
      ],
      "metadata": {
        "id": "thSdMptQ25l0"
      },
      "id": "thSdMptQ25l0",
      "execution_count": null,
      "outputs": []
    },
    {
      "cell_type": "code",
      "execution_count": null,
      "metadata": {
        "id": "uB94oEq5tg9o"
      },
      "outputs": [],
      "source": [
        "\n"
      ],
      "id": "uB94oEq5tg9o"
    },
    {
      "cell_type": "code",
      "execution_count": 10,
      "metadata": {
        "id": "1J5ORpaetg9q",
        "colab": {
          "base_uri": "https://localhost:8080/"
        },
        "outputId": "6b384a91-7647-4be5-fc66-4eff79081a4a"
      },
      "outputs": [
        {
          "output_type": "stream",
          "name": "stdout",
          "text": [
            "Download complete\n"
          ]
        }
      ],
      "source": [
        "from apiclient.http import MediaIoBaseDownload\n",
        "bucket_name = 'commenters_juv_image_analysis' \n",
        "with open('/tmp/gsutil_download.txt', 'wb') as f:\n",
        "  # Download the file from a given Google Cloud Storage bucket.\n",
        "  request = gcs_service.objects().get_media(bucket=bucket_name,\n",
        "                                            object='image_1.jpg')\n",
        "  media = MediaIoBaseDownload(f, request)\n",
        "\n",
        "  done = False\n",
        "  while not done:\n",
        "    # _ is a placeholder for a progress object that we ignore.\n",
        "    # (Our file is small, so we skip reporting progress.)\n",
        "    _, done = media.next_chunk()\n",
        "  print('Download complete')\n",
        "  "
      ],
      "id": "1J5ORpaetg9q"
    },
    {
      "cell_type": "code",
      "source": [
        "!cat /tmp/gsutil_download.txt"
      ],
      "metadata": {
        "id": "fgC-XcTObLuk"
      },
      "id": "fgC-XcTObLuk",
      "execution_count": null,
      "outputs": []
    },
    {
      "cell_type": "code",
      "execution_count": 11,
      "metadata": {
        "id": "fC3o-okitg9s"
      },
      "outputs": [],
      "source": [
        "def run_facial_rec(fname):\n",
        "    bucket_name = 'commenters_juv_image_analysis' \n",
        "    with open('/tmp/gsutil_download.txt', 'wb') as f:\n",
        "  # Download the file from a given Google Cloud Storage bucket.\n",
        "      request = gcs_service.objects().get_media(bucket=bucket_name,\n",
        "                                                object=f'{fname}')\n",
        "      media = MediaIoBaseDownload(f, request)\n",
        "\n",
        "      done = False\n",
        "      while not done:\n",
        "        # _ is a placeholder for a progress object that we ignore.\n",
        "        # (Our file is small, so we skip reporting progress.)\n",
        "        _, done = media.next_chunk()\n",
        "    print('Download complete')\n",
        "    face = DeepFace.analyze(img_path = f'/tmp/{fname}', actions = ['age', 'gender', 'race', 'emotion'], enforce_detection = False)\n",
        "    return face\n",
        "\n",
        "\n",
        "fname = \"image\"\n",
        "list_of_fnames = []\n",
        "for i in range(len(profile_pictures)+1):\n",
        "     list_of_fnames.append(fname + \"_\" +f\"{i}\")\n",
        "        \n",
        "list_of_fnames = [fname + \".jpg\" for fname in list_of_fnames]"
      ],
      "id": "fC3o-okitg9s"
    },
    {
      "cell_type": "code",
      "execution_count": 12,
      "metadata": {
        "id": "Ryz54E1ttg9u",
        "outputId": "388685fb-f66e-4692-a73d-498621cd643f",
        "colab": {
          "base_uri": "https://localhost:8080/"
        }
      },
      "outputs": [
        {
          "output_type": "stream",
          "name": "stdout",
          "text": [
            "['image_0.jpg', 'image_1.jpg', 'image_2.jpg', 'image_3.jpg', 'image_4.jpg', 'image_5.jpg', 'image_6.jpg', 'image_7.jpg', 'image_8.jpg', 'image_9.jpg', 'image_10.jpg', 'image_11.jpg', 'image_12.jpg', 'image_13.jpg', 'image_14.jpg', 'image_15.jpg', 'image_16.jpg', 'image_17.jpg', 'image_18.jpg', 'image_19.jpg', 'image_20.jpg', 'image_21.jpg', 'image_22.jpg', 'image_23.jpg', 'image_24.jpg', 'image_25.jpg', 'image_26.jpg', 'image_27.jpg', 'image_28.jpg', 'image_29.jpg', 'image_30.jpg', 'image_31.jpg', 'image_32.jpg', 'image_33.jpg', 'image_34.jpg', 'image_35.jpg', 'image_36.jpg', 'image_37.jpg', 'image_38.jpg', 'image_39.jpg', 'image_40.jpg', 'image_41.jpg', 'image_42.jpg', 'image_43.jpg', 'image_44.jpg', 'image_45.jpg', 'image_46.jpg', 'image_47.jpg', 'image_48.jpg', 'image_49.jpg', 'image_50.jpg', 'image_51.jpg', 'image_52.jpg', 'image_53.jpg', 'image_54.jpg', 'image_55.jpg', 'image_56.jpg', 'image_57.jpg', 'image_58.jpg', 'image_59.jpg', 'image_60.jpg', 'image_61.jpg', 'image_62.jpg', 'image_63.jpg', 'image_64.jpg', 'image_65.jpg', 'image_66.jpg', 'image_67.jpg', 'image_68.jpg', 'image_69.jpg', 'image_70.jpg', 'image_71.jpg', 'image_72.jpg', 'image_73.jpg', 'image_74.jpg', 'image_75.jpg', 'image_76.jpg', 'image_77.jpg', 'image_78.jpg', 'image_79.jpg', 'image_80.jpg', 'image_81.jpg', 'image_82.jpg', 'image_83.jpg', 'image_84.jpg', 'image_85.jpg', 'image_86.jpg', 'image_87.jpg', 'image_88.jpg', 'image_89.jpg', 'image_90.jpg', 'image_91.jpg', 'image_92.jpg', 'image_93.jpg', 'image_94.jpg', 'image_95.jpg', 'image_96.jpg', 'image_97.jpg', 'image_98.jpg', 'image_99.jpg', 'image_100.jpg', 'image_101.jpg', 'image_102.jpg', 'image_103.jpg', 'image_104.jpg', 'image_105.jpg', 'image_106.jpg', 'image_107.jpg', 'image_108.jpg', 'image_109.jpg', 'image_110.jpg', 'image_111.jpg', 'image_112.jpg', 'image_113.jpg', 'image_114.jpg', 'image_115.jpg', 'image_116.jpg', 'image_117.jpg', 'image_118.jpg', 'image_119.jpg', 'image_120.jpg', 'image_121.jpg', 'image_122.jpg', 'image_123.jpg', 'image_124.jpg', 'image_125.jpg', 'image_126.jpg', 'image_127.jpg', 'image_128.jpg', 'image_129.jpg', 'image_130.jpg', 'image_131.jpg', 'image_132.jpg', 'image_133.jpg', 'image_134.jpg', 'image_135.jpg', 'image_136.jpg', 'image_137.jpg', 'image_138.jpg', 'image_139.jpg', 'image_140.jpg', 'image_141.jpg', 'image_142.jpg', 'image_143.jpg', 'image_144.jpg', 'image_145.jpg', 'image_146.jpg', 'image_147.jpg', 'image_148.jpg', 'image_149.jpg', 'image_150.jpg', 'image_151.jpg', 'image_152.jpg', 'image_153.jpg', 'image_154.jpg', 'image_155.jpg', 'image_156.jpg', 'image_157.jpg', 'image_158.jpg', 'image_159.jpg', 'image_160.jpg', 'image_161.jpg', 'image_162.jpg', 'image_163.jpg', 'image_164.jpg', 'image_165.jpg', 'image_166.jpg', 'image_167.jpg', 'image_168.jpg', 'image_169.jpg', 'image_170.jpg', 'image_171.jpg', 'image_172.jpg', 'image_173.jpg', 'image_174.jpg', 'image_175.jpg', 'image_176.jpg', 'image_177.jpg', 'image_178.jpg', 'image_179.jpg', 'image_180.jpg', 'image_181.jpg', 'image_182.jpg', 'image_183.jpg', 'image_184.jpg', 'image_185.jpg', 'image_186.jpg', 'image_187.jpg', 'image_188.jpg', 'image_189.jpg', 'image_190.jpg', 'image_191.jpg', 'image_192.jpg', 'image_193.jpg', 'image_194.jpg', 'image_195.jpg', 'image_196.jpg', 'image_197.jpg', 'image_198.jpg', 'image_199.jpg', 'image_200.jpg', 'image_201.jpg', 'image_202.jpg', 'image_203.jpg', 'image_204.jpg', 'image_205.jpg', 'image_206.jpg', 'image_207.jpg', 'image_208.jpg', 'image_209.jpg', 'image_210.jpg', 'image_211.jpg', 'image_212.jpg', 'image_213.jpg', 'image_214.jpg', 'image_215.jpg', 'image_216.jpg', 'image_217.jpg', 'image_218.jpg', 'image_219.jpg', 'image_220.jpg', 'image_221.jpg', 'image_222.jpg', 'image_223.jpg', 'image_224.jpg', 'image_225.jpg', 'image_226.jpg', 'image_227.jpg', 'image_228.jpg', 'image_229.jpg', 'image_230.jpg', 'image_231.jpg', 'image_232.jpg', 'image_233.jpg', 'image_234.jpg', 'image_235.jpg', 'image_236.jpg', 'image_237.jpg', 'image_238.jpg', 'image_239.jpg', 'image_240.jpg', 'image_241.jpg', 'image_242.jpg', 'image_243.jpg', 'image_244.jpg', 'image_245.jpg', 'image_246.jpg', 'image_247.jpg', 'image_248.jpg', 'image_249.jpg', 'image_250.jpg', 'image_251.jpg', 'image_252.jpg', 'image_253.jpg', 'image_254.jpg', 'image_255.jpg', 'image_256.jpg', 'image_257.jpg', 'image_258.jpg', 'image_259.jpg', 'image_260.jpg', 'image_261.jpg', 'image_262.jpg', 'image_263.jpg', 'image_264.jpg', 'image_265.jpg', 'image_266.jpg', 'image_267.jpg', 'image_268.jpg', 'image_269.jpg', 'image_270.jpg', 'image_271.jpg', 'image_272.jpg', 'image_273.jpg', 'image_274.jpg', 'image_275.jpg', 'image_276.jpg', 'image_277.jpg', 'image_278.jpg', 'image_279.jpg', 'image_280.jpg', 'image_281.jpg', 'image_282.jpg', 'image_283.jpg', 'image_284.jpg', 'image_285.jpg', 'image_286.jpg', 'image_287.jpg', 'image_288.jpg', 'image_289.jpg', 'image_290.jpg', 'image_291.jpg', 'image_292.jpg', 'image_293.jpg', 'image_294.jpg', 'image_295.jpg', 'image_296.jpg', 'image_297.jpg', 'image_298.jpg', 'image_299.jpg', 'image_300.jpg', 'image_301.jpg', 'image_302.jpg', 'image_303.jpg', 'image_304.jpg', 'image_305.jpg', 'image_306.jpg', 'image_307.jpg', 'image_308.jpg', 'image_309.jpg', 'image_310.jpg', 'image_311.jpg', 'image_312.jpg', 'image_313.jpg', 'image_314.jpg', 'image_315.jpg', 'image_316.jpg', 'image_317.jpg', 'image_318.jpg', 'image_319.jpg', 'image_320.jpg', 'image_321.jpg', 'image_322.jpg', 'image_323.jpg', 'image_324.jpg', 'image_325.jpg', 'image_326.jpg', 'image_327.jpg', 'image_328.jpg', 'image_329.jpg', 'image_330.jpg', 'image_331.jpg', 'image_332.jpg', 'image_333.jpg', 'image_334.jpg', 'image_335.jpg', 'image_336.jpg', 'image_337.jpg', 'image_338.jpg', 'image_339.jpg', 'image_340.jpg', 'image_341.jpg', 'image_342.jpg', 'image_343.jpg', 'image_344.jpg', 'image_345.jpg', 'image_346.jpg', 'image_347.jpg', 'image_348.jpg', 'image_349.jpg', 'image_350.jpg', 'image_351.jpg', 'image_352.jpg', 'image_353.jpg', 'image_354.jpg', 'image_355.jpg', 'image_356.jpg', 'image_357.jpg', 'image_358.jpg', 'image_359.jpg', 'image_360.jpg', 'image_361.jpg', 'image_362.jpg', 'image_363.jpg', 'image_364.jpg', 'image_365.jpg', 'image_366.jpg', 'image_367.jpg', 'image_368.jpg']\n"
          ]
        }
      ],
      "source": [
        "print(list_of_fnames)"
      ],
      "id": "Ryz54E1ttg9u"
    },
    {
      "cell_type": "code",
      "execution_count": null,
      "metadata": {
        "id": "lZanUKH4tg9w"
      },
      "outputs": [],
      "source": [
        "x = []\n",
        "for fname in list_of_fnames:\n",
        "    try:  \n",
        "        results = [run_facial_rec(fname = fname)]\n",
        "        x.append(results)        \n",
        "    except Exception as e: \n",
        "        x.append(fname)\n",
        "        print(e)"
      ],
      "id": "lZanUKH4tg9w"
    },
    {
      "cell_type": "code",
      "source": [
        "print(x)"
      ],
      "metadata": {
        "colab": {
          "base_uri": "https://localhost:8080/"
        },
        "id": "KlqLJuJGiNxk",
        "outputId": "f241519d-d02c-4eb6-af4c-1706bb529a54"
      },
      "id": "KlqLJuJGiNxk",
      "execution_count": 14,
      "outputs": [
        {
          "output_type": "stream",
          "name": "stdout",
          "text": [
            "['image_0.jpg', 'image_1.jpg', 'image_2.jpg', 'image_3.jpg', 'image_4.jpg', 'image_5.jpg', 'image_6.jpg', 'image_7.jpg', 'image_8.jpg', 'image_9.jpg', 'image_10.jpg', 'image_11.jpg', 'image_12.jpg', 'image_13.jpg', 'image_14.jpg', 'image_15.jpg', 'image_16.jpg', 'image_17.jpg', 'image_18.jpg', 'image_19.jpg', 'image_20.jpg', 'image_21.jpg', 'image_22.jpg', 'image_23.jpg', 'image_24.jpg', 'image_25.jpg', 'image_26.jpg', 'image_27.jpg', 'image_28.jpg', 'image_29.jpg', 'image_30.jpg', 'image_31.jpg', 'image_32.jpg', 'image_33.jpg', 'image_34.jpg', 'image_35.jpg', 'image_36.jpg', 'image_37.jpg', 'image_38.jpg', 'image_39.jpg', 'image_40.jpg', 'image_41.jpg', 'image_42.jpg', 'image_43.jpg', 'image_44.jpg', 'image_45.jpg', 'image_46.jpg', 'image_47.jpg', 'image_48.jpg', 'image_49.jpg', 'image_50.jpg', 'image_51.jpg', 'image_52.jpg', 'image_53.jpg', 'image_54.jpg', 'image_55.jpg', 'image_56.jpg', 'image_57.jpg', 'image_58.jpg', 'image_59.jpg', 'image_60.jpg', 'image_61.jpg', 'image_62.jpg', 'image_63.jpg', 'image_64.jpg', 'image_65.jpg', 'image_66.jpg', 'image_67.jpg', 'image_68.jpg', 'image_69.jpg', 'image_70.jpg', 'image_71.jpg', 'image_72.jpg', 'image_73.jpg', 'image_74.jpg', 'image_75.jpg', 'image_76.jpg', 'image_77.jpg', 'image_78.jpg', 'image_79.jpg', 'image_80.jpg', 'image_81.jpg', 'image_82.jpg', 'image_83.jpg', 'image_84.jpg', 'image_85.jpg', 'image_86.jpg', 'image_87.jpg', 'image_88.jpg', 'image_89.jpg', 'image_90.jpg', 'image_91.jpg', 'image_92.jpg', 'image_93.jpg', 'image_94.jpg', 'image_95.jpg', 'image_96.jpg', 'image_97.jpg', 'image_98.jpg', 'image_99.jpg', 'image_100.jpg', 'image_101.jpg', 'image_102.jpg', 'image_103.jpg', 'image_104.jpg', 'image_105.jpg', 'image_106.jpg', 'image_107.jpg', 'image_108.jpg', 'image_109.jpg', 'image_110.jpg', 'image_111.jpg', 'image_112.jpg', 'image_113.jpg', 'image_114.jpg', 'image_115.jpg', 'image_116.jpg', 'image_117.jpg', 'image_118.jpg', 'image_119.jpg', 'image_120.jpg', 'image_121.jpg', 'image_122.jpg', 'image_123.jpg', 'image_124.jpg', 'image_125.jpg', 'image_126.jpg', 'image_127.jpg', 'image_128.jpg', 'image_129.jpg', 'image_130.jpg', 'image_131.jpg', 'image_132.jpg', 'image_133.jpg', 'image_134.jpg', 'image_135.jpg', 'image_136.jpg', 'image_137.jpg', 'image_138.jpg', 'image_139.jpg', 'image_140.jpg', 'image_141.jpg', 'image_142.jpg', 'image_143.jpg', 'image_144.jpg', 'image_145.jpg', 'image_146.jpg', 'image_147.jpg', 'image_148.jpg', 'image_149.jpg', 'image_150.jpg', 'image_151.jpg', 'image_152.jpg', 'image_153.jpg', 'image_154.jpg', 'image_155.jpg', 'image_156.jpg', 'image_157.jpg', 'image_158.jpg', 'image_159.jpg', 'image_160.jpg', 'image_161.jpg', 'image_162.jpg', 'image_163.jpg', 'image_164.jpg', 'image_165.jpg', 'image_166.jpg', 'image_167.jpg', 'image_168.jpg', 'image_169.jpg', 'image_170.jpg', 'image_171.jpg', 'image_172.jpg', 'image_173.jpg', 'image_174.jpg', 'image_175.jpg', 'image_176.jpg', 'image_177.jpg', 'image_178.jpg', 'image_179.jpg', 'image_180.jpg', 'image_181.jpg', 'image_182.jpg', 'image_183.jpg', 'image_184.jpg', 'image_185.jpg', 'image_186.jpg', 'image_187.jpg', 'image_188.jpg', 'image_189.jpg', 'image_190.jpg', 'image_191.jpg', 'image_192.jpg', 'image_193.jpg', 'image_194.jpg', 'image_195.jpg', 'image_196.jpg', 'image_197.jpg', 'image_198.jpg', 'image_199.jpg', 'image_200.jpg', 'image_201.jpg', 'image_202.jpg', 'image_203.jpg', 'image_204.jpg', 'image_205.jpg', 'image_206.jpg', 'image_207.jpg', 'image_208.jpg', 'image_209.jpg', 'image_210.jpg', 'image_211.jpg', 'image_212.jpg', 'image_213.jpg', 'image_214.jpg', 'image_215.jpg', 'image_216.jpg', 'image_217.jpg', 'image_218.jpg', 'image_219.jpg', 'image_220.jpg', 'image_221.jpg', 'image_222.jpg', 'image_223.jpg', 'image_224.jpg', 'image_225.jpg', 'image_226.jpg', 'image_227.jpg', 'image_228.jpg', 'image_229.jpg', 'image_230.jpg', 'image_231.jpg', 'image_232.jpg', 'image_233.jpg', 'image_234.jpg', 'image_235.jpg', 'image_236.jpg', 'image_237.jpg', 'image_238.jpg', 'image_239.jpg', 'image_240.jpg', 'image_241.jpg', 'image_242.jpg', 'image_243.jpg', 'image_244.jpg', 'image_245.jpg', 'image_246.jpg', 'image_247.jpg', 'image_248.jpg', 'image_249.jpg', 'image_250.jpg', 'image_251.jpg', 'image_252.jpg', 'image_253.jpg', 'image_254.jpg', 'image_255.jpg', 'image_256.jpg', 'image_257.jpg', 'image_258.jpg', 'image_259.jpg', 'image_260.jpg', 'image_261.jpg', 'image_262.jpg', 'image_263.jpg', 'image_264.jpg', 'image_265.jpg', 'image_266.jpg', 'image_267.jpg', 'image_268.jpg', 'image_269.jpg', 'image_270.jpg', 'image_271.jpg', 'image_272.jpg', 'image_273.jpg', 'image_274.jpg', 'image_275.jpg', 'image_276.jpg', 'image_277.jpg', 'image_278.jpg', 'image_279.jpg', 'image_280.jpg', 'image_281.jpg', 'image_282.jpg', 'image_283.jpg', 'image_284.jpg', 'image_285.jpg', 'image_286.jpg', 'image_287.jpg', 'image_288.jpg', 'image_289.jpg', 'image_290.jpg', 'image_291.jpg', 'image_292.jpg', 'image_293.jpg', 'image_294.jpg', 'image_295.jpg', 'image_296.jpg', 'image_297.jpg', 'image_298.jpg', 'image_299.jpg', 'image_300.jpg', 'image_301.jpg', 'image_302.jpg', 'image_303.jpg', 'image_304.jpg', 'image_305.jpg', 'image_306.jpg', 'image_307.jpg', 'image_308.jpg', 'image_309.jpg', 'image_310.jpg', 'image_311.jpg', 'image_312.jpg', 'image_313.jpg', 'image_314.jpg', 'image_315.jpg', 'image_316.jpg', 'image_317.jpg', 'image_318.jpg', 'image_319.jpg', 'image_320.jpg', 'image_321.jpg', 'image_322.jpg', 'image_323.jpg', 'image_324.jpg', 'image_325.jpg', 'image_326.jpg', 'image_327.jpg', 'image_328.jpg', 'image_329.jpg', 'image_330.jpg', 'image_331.jpg', 'image_332.jpg', 'image_333.jpg', 'image_334.jpg', 'image_335.jpg', 'image_336.jpg', 'image_337.jpg', 'image_338.jpg', 'image_339.jpg', 'image_340.jpg', 'image_341.jpg', 'image_342.jpg', 'image_343.jpg', 'image_344.jpg', 'image_345.jpg', 'image_346.jpg', 'image_347.jpg', 'image_348.jpg', 'image_349.jpg', 'image_350.jpg', 'image_351.jpg', 'image_352.jpg', 'image_353.jpg', 'image_354.jpg', 'image_355.jpg', 'image_356.jpg', 'image_357.jpg', 'image_358.jpg', 'image_359.jpg', 'image_360.jpg', 'image_361.jpg', 'image_362.jpg', 'image_363.jpg', 'image_364.jpg', 'image_365.jpg', 'image_366.jpg', 'image_367.jpg', 'image_368.jpg']\n"
          ]
        }
      ]
    },
    {
      "cell_type": "code",
      "execution_count": null,
      "metadata": {
        "id": "zCgzXhEvtg9y",
        "outputId": "119e4da6-0eab-4218-8e50-778ca5c00d81"
      },
      "outputs": [
        {
          "data": {
            "text/plain": [
              "25000"
            ]
          },
          "execution_count": 12,
          "metadata": {},
          "output_type": "execute_result"
        }
      ],
      "source": [
        "fr_results = pd.DataFrame({\"fr_results\": x, \"index1\": list_of_fnames})\n",
        "\n",
        "len(fr_results)"
      ],
      "id": "zCgzXhEvtg9y"
    },
    {
      "cell_type": "code",
      "execution_count": null,
      "metadata": {
        "id": "ic3raovatg90"
      },
      "outputs": [],
      "source": [
        "\n",
        "\n",
        "number =[{k:v for k,v in result.items() if k.startswith('r')} for result in y] \n",
        "race = [{k:v for k,v in result.items() if \"dominant_race\" in k} for result in y] \n",
        "age = [{k:v for k,v in result.items() if \"age\" in k} for result in y] \n",
        "gender = [{k:v for k,v in result.items() if \"gender\" in k} for result in y]\n",
        "\n",
        "\n",
        "number = [nonsense['race'] for nonsense in number]\n",
        "#numbers = df['number'].tolist()\n",
        "\n",
        "race = [ sub['dominant_race'] for sub in race]\n",
        "#races = df['race'].tolist()\n",
        "\n",
        "age = [ nonsense['age'] for nonsense in age]\n",
        "#ages = df['age'].tolist()\n",
        "\n",
        "gender = [ thing['gender'] for thing in gender]\n",
        "#genders = df['gender'].tolist()\n"
      ],
      "id": "ic3raovatg90"
    },
    {
      "cell_type": "code",
      "execution_count": null,
      "metadata": {
        "id": "WXCprpvqtg91"
      },
      "outputs": [],
      "source": [
        "dict = {'dominant_race' : race, 'age': age, 'gender': gender, 'race_breakdown': number}\n",
        "df = pd.DataFrame(dict)\n",
        "df.to_csv(\"MBFollowerDemographicData.csv\")"
      ],
      "id": "WXCprpvqtg91"
    },
    {
      "cell_type": "code",
      "execution_count": null,
      "metadata": {
        "id": "3nDZNTnUtg93",
        "outputId": "610efac0-b94d-4c92-c8b7-db85eb715a64"
      },
      "outputs": [
        {
          "data": {
            "text/plain": [
              "24999"
            ]
          },
          "execution_count": 15,
          "metadata": {},
          "output_type": "execute_result"
        }
      ],
      "source": [
        "#df = fr_results.merge(df, on = 'index1')\n",
        "#df.to_csv(\"MBFollowerDemographicData_2.csv\")\n",
        "\n",
        "len(df)"
      ],
      "id": "3nDZNTnUtg93"
    }
  ],
  "metadata": {
    "kernelspec": {
      "display_name": "Python 3",
      "language": "python",
      "name": "python3"
    },
    "language_info": {
      "codemirror_mode": {
        "name": "ipython",
        "version": 3
      },
      "file_extension": ".py",
      "mimetype": "text/x-python",
      "name": "python",
      "nbconvert_exporter": "python",
      "pygments_lexer": "ipython3",
      "version": "3.8.5"
    },
    "colab": {
      "name": "facial_recognition_checkpoint.ipynb",
      "provenance": [],
      "collapsed_sections": [],
      "include_colab_link": true
    }
  },
  "nbformat": 4,
  "nbformat_minor": 5
}